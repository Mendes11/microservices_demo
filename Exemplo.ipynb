{
 "cells": [
  {
   "cell_type": "code",
   "execution_count": 1,
   "metadata": {},
   "outputs": [],
   "source": [
    "import requests\n"
   ]
  },
  {
   "cell_type": "code",
   "execution_count": 76,
   "metadata": {},
   "outputs": [
    {
     "name": "stdout",
     "output_type": "stream",
     "text": [
      "201\n",
      "{'id': 'fcfeae82-9465-440c-87ca-d4afd210e783', 'created_at': '2020-01-13T18:08:38.688938Z', 'updated_at': '2020-01-13T18:08:38.688955Z', 'name': 'Bebidas'}\n"
     ]
    }
   ],
   "source": [
    "# Criando Um Tipo de Produto\n",
    "data = {'name': 'Bebidas'}\n",
    "r = requests.post('http://127.0.0.1:8000/api/v1/product-types/', json=data)\n",
    "print(r.status_code)\n",
    "product_type = r.json()['id']\n",
    "print(r.json())"
   ]
  },
  {
   "cell_type": "code",
   "execution_count": null,
   "metadata": {},
   "outputs": [],
   "source": [
    "# Criando os Produtos\n",
    "\n",
    "data = {'product_type': product_type, 'name': 'Guaraná', 'description': 'Algo'}\n",
    "r = requests.post('http://127.0.0.1:8000/api/v1/products/', json=data)\n",
    "print(r.status_code)\n",
    "guarana = r.json()['id']\n",
    "print(r.json())\n",
    "\n",
    "data = {'product_type': product_type, 'name': 'Coca', 'description': 'Algo da Coca'}\n",
    "r = requests.post('http://127.0.0.1:8000/api/v1/products/', json=data)\n",
    "print(r.status_code)\n",
    "coca = r.json()['id']\n",
    "print(r.json())"
   ]
  },
  {
   "cell_type": "code",
   "execution_count": 47,
   "metadata": {},
   "outputs": [
    {
     "name": "stdout",
     "output_type": "stream",
     "text": [
      "200\n",
      "[{'id': 1, 'product': '83e8d040-35d5-49bf-82e5-7279eb53d240', 'quantity': 0}, {'id': 2, 'product': '5d524629-eaa2-414b-8176-c31d6a9a6e5d', 'quantity': 0}]\n"
     ]
    }
   ],
   "source": [
    "# Conferindo os Estoques Criados Automaticamente.\n",
    "r = requests.get('http://127.0.0.1:8001/api/v1/storages/')\n",
    "print(r.status_code)\n",
    "print(r.json())\n"
   ]
  },
  {
   "cell_type": "code",
   "execution_count": 48,
   "metadata": {},
   "outputs": [
    {
     "name": "stdout",
     "output_type": "stream",
     "text": [
      "Pedido de Adição de Guaraná: \n",
      "{'id': 1, 'user': '1d701250-70b1-4adb-a5dd-bb07912562b3', 'product': '83e8d040-35d5-49bf-82e5-7279eb53d240', 'amount': 10, 'order': None, 'status': 'requested'}\n",
      "Pedido de Adição de Coca: \n",
      "{'id': 2, 'user': '1d701250-70b1-4adb-a5dd-bb07912562b3', 'product': '5d524629-eaa2-414b-8176-c31d6a9a6e5d', 'amount': 100, 'order': None, 'status': 'requested'}\n"
     ]
    }
   ],
   "source": [
    "# Adicionando Valores ao Estoque\n",
    "data = {'product': guarana, 'amount': 10, 'user': '1d701250-70b1-4adb-a5dd-bb07912562b3'}\n",
    "r = requests.post('http://127.0.0.1:8001/api/v1/storage-operations/', json=data)\n",
    "print('Pedido de Adição de Guaraná: ')\n",
    "print(r.json())\n",
    "\n",
    "data = {'product': coca, 'amount': 100, 'user': '1d701250-70b1-4adb-a5dd-bb07912562b3'}\n",
    "r = requests.post('http://127.0.0.1:8001/api/v1/storage-operations/', json=data)\n",
    "print('Pedido de Adição de Coca: ')\n",
    "print(r.json())\n"
   ]
  },
  {
   "cell_type": "code",
   "execution_count": 68,
   "metadata": {},
   "outputs": [
    {
     "name": "stdout",
     "output_type": "stream",
     "text": [
      "200\n",
      "[{'id': 1, 'user': '1d701250-70b1-4adb-a5dd-bb07912562b3', 'product': '83e8d040-35d5-49bf-82e5-7279eb53d240', 'amount': 10, 'order': None, 'status': 'approved'}, {'id': 2, 'user': '1d701250-70b1-4adb-a5dd-bb07912562b3', 'product': '5d524629-eaa2-414b-8176-c31d6a9a6e5d', 'amount': 100, 'order': None, 'status': 'approved'}, {'id': 4, 'user': '1d701250-70b1-4adb-a5dd-bb07912562b3', 'product': '5d524629-eaa2-414b-8176-c31d6a9a6e5d', 'amount': 10, 'order': 'd0d48727-b375-4002-990a-785c54acdf61', 'status': 'approved'}, {'id': 5, 'user': '1d701250-70b1-4adb-a5dd-bb07912562b3', 'product': '83e8d040-35d5-49bf-82e5-7279eb53d240', 'amount': -10, 'order': 'a1b36bb4-9fc1-46b1-8c97-42cf83a8f121', 'status': 'approved'}, {'id': 6, 'user': '1d701250-70b1-4adb-a5dd-bb07912562b3', 'product': '83e8d040-35d5-49bf-82e5-7279eb53d240', 'amount': -10, 'order': '008920b8-47c5-4706-b3f0-be4b43cd0561', 'status': 'rejected'}, {'id': 7, 'user': '1d701250-70b1-4adb-a5dd-bb07912562b3', 'product': '83e8d040-35d5-49bf-82e5-7279eb53d240', 'amount': -10, 'order': 'f1b6b2c4-b311-4c91-bb9d-6e9dfdb4ab86', 'status': 'rejected'}]\n",
      "200\n",
      "[{'id': 2, 'product': '5d524629-eaa2-414b-8176-c31d6a9a6e5d', 'quantity': 110}, {'id': 1, 'product': '83e8d040-35d5-49bf-82e5-7279eb53d240', 'quantity': 0}]\n"
     ]
    }
   ],
   "source": [
    "# Conferindo se as operações foram realizadas com sucesso.\n",
    "r = requests.get('http://127.0.0.1:8001/api/v1/storage-operations/')\n",
    "print(r.status_code)\n",
    "print(r.json())\n",
    "\n",
    "# Conferindo os Estoques Criados Automaticamente.\n",
    "r = requests.get('http://127.0.0.1:8001/api/v1/storages/')\n",
    "print(r.status_code)\n",
    "print(r.json())\n"
   ]
  },
  {
   "cell_type": "code",
   "execution_count": 71,
   "metadata": {},
   "outputs": [
    {
     "name": "stdout",
     "output_type": "stream",
     "text": [
      "201\n",
      "{'id': 'ae6ce9d5-b747-462b-9e7e-921f7157137a', 'status': 'requested', 'created_at': '2020-01-13T17:29:06.586674Z', 'updated_at': '2020-01-13T17:29:06.586689Z', 'product': '83e8d040-35d5-49bf-82e5-7279eb53d240', 'user': '1d701250-70b1-4adb-a5dd-bb07912562b3', 'amount': 10}\n"
     ]
    }
   ],
   "source": [
    "# Criando um Pedido de Compra\n",
    "data = {'user': '1d701250-70b1-4adb-a5dd-bb07912562b3', 'product': guarana, 'amount': 10}\n",
    "r = requests.post('http://127.0.0.1:8002/api/v1/orders/', json=data)\n",
    "print(r.status_code)\n",
    "print(r.json())\n",
    "order = r.json()['id']"
   ]
  },
  {
   "cell_type": "code",
   "execution_count": 73,
   "metadata": {},
   "outputs": [
    {
     "name": "stdout",
     "output_type": "stream",
     "text": [
      "{'id': 'ae6ce9d5-b747-462b-9e7e-921f7157137a', 'status': 'failed', 'created_at': '2020-01-13T17:29:06.586674Z', 'updated_at': '2020-01-13T17:29:07.183630Z', 'product': '83e8d040-35d5-49bf-82e5-7279eb53d240', 'user': '1d701250-70b1-4adb-a5dd-bb07912562b3', 'amount': 10}\n"
     ]
    }
   ],
   "source": [
    "# Verificando o Pedido\n",
    "r = requests.get(f'http://127.0.0.1:8002/api/v1/orders/{order}/')\n",
    "print(r.json())"
   ]
  },
  {
   "cell_type": "code",
   "execution_count": 74,
   "metadata": {},
   "outputs": [
    {
     "name": "stdout",
     "output_type": "stream",
     "text": [
      "200\n",
      "[{'id': 2, 'product': '5d524629-eaa2-414b-8176-c31d6a9a6e5d', 'quantity': 110}, {'id': 1, 'product': '83e8d040-35d5-49bf-82e5-7279eb53d240', 'quantity': 0}]\n"
     ]
    }
   ],
   "source": [
    "# Verificando o Estoque\n",
    "r = requests.get('http://127.0.0.1:8001/api/v1/storages/')\n",
    "print(r.status_code)\n",
    "print(r.json())"
   ]
  },
  {
   "cell_type": "code",
   "execution_count": null,
   "metadata": {},
   "outputs": [],
   "source": []
  }
 ],
 "metadata": {
  "kernelspec": {
   "display_name": "Python 3",
   "language": "python",
   "name": "python3"
  },
  "language_info": {
   "codemirror_mode": {
    "name": "ipython",
    "version": 3
   },
   "file_extension": ".py",
   "mimetype": "text/x-python",
   "name": "python",
   "nbconvert_exporter": "python",
   "pygments_lexer": "ipython3",
   "version": "3.7.2+"
  }
 },
 "nbformat": 4,
 "nbformat_minor": 2
}
